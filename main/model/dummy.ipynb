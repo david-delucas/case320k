{
 "nbformat": 4,
 "nbformat_minor": 2,
 "metadata": {
  "language_info": {
   "name": "python",
   "codemirror_mode": {
    "name": "ipython",
    "version": 3
   },
   "version": "3.7.5-final"
  },
  "orig_nbformat": 2,
  "file_extension": ".py",
  "mimetype": "text/x-python",
  "name": "python",
  "npconvert_exporter": "python",
  "pygments_lexer": "ipython3",
  "version": 3,
  "kernelspec": {
   "name": "python3",
   "display_name": "Python 3"
  }
 },
 "cells": [
  {
   "cell_type": "code",
   "execution_count": 2,
   "metadata": {},
   "outputs": [
    {
     "output_type": "execute_result",
     "data": {
      "text/plain": "-954.8305909309076"
     },
     "metadata": {},
     "execution_count": 2
    }
   ],
   "source": [
    "import pandas as pd\n",
    "import numpy as np\n",
    "from datetime import date\n",
    "\n",
    "Interest_Rate = 0.04\n",
    "Years = 30\n",
    "Payments_Year = 12\n",
    "Principal = 200000\n",
    "Addl_Princ = 50\n",
    "start_date = (date(2016,1,1))\n",
    "pmt = np.pmt(Interest_Rate/Payments_Year, Years*Payments_Year, Principal)\n",
    "pmt"
   ]
  },
  {
   "cell_type": "code",
   "execution_count": 3,
   "metadata": {},
   "outputs": [
    {
     "output_type": "stream",
     "name": "stdout",
     "text": "-666.6666666666667 -288.1639242642409\n"
    }
   ],
   "source": [
    "# Period to calculate\n",
    "per = 1\n",
    "\n",
    "# Calculate the interest\n",
    "ipmt = np.ipmt(Interest_Rate/Payments_Year, per, Years*Payments_Year, Principal)\n",
    "\n",
    "# Calculate the principal\n",
    "ppmt = np.ppmt(Interest_Rate/Payments_Year, per, Years*Payments_Year, Principal)\n",
    "\n",
    "print(ipmt, ppmt)"
   ]
  },
  {
   "cell_type": "code",
   "execution_count": null,
   "metadata": {},
   "outputs": [],
   "source": [
    "per = 240 # Period to calculate\n",
    "# Calculate the interest\n",
    "ipmt = np.ipmt(Interest_Rate/Payments_Year, per, Years*Payments_Year, Principal)\n",
    "\n",
    "# Calculate the principal\n",
    "ppmt = np.ppmt(Interest_Rate/Payments_Year, per, Years*Payments_Year, Principal)\n",
    "print(ipmt, ppmt)"
   ]
  }
 ]
}